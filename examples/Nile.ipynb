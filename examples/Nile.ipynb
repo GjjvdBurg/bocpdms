{
 "cells": [
  {
   "cell_type": "markdown",
   "metadata": {},
   "source": [
    "# Recreating the Nile result"
   ]
  },
  {
   "cell_type": "code",
   "execution_count": null,
   "metadata": {},
   "outputs": [],
   "source": [
    "import matplotlib\n",
    "import matplotlib.pylab as plt\n",
    "import matplotlib.dates as mdates\n",
    "import numpy as np\n",
    "import os\n",
    "import scipy\n",
    "import sys\n",
    "%matplotlib inline\n",
    "\n",
    "sys.path.append('..')\n",
    "\n",
    "from cp_probability_model import CpModel\n",
    "from BVAR_NIG import BVARNIG\n",
    "from detector import Detector\n",
    "from Evaluation_tool import EvaluationTool\n",
    "from nile_ICML18 import load_nile_data"
   ]
  },
  {
   "cell_type": "markdown",
   "metadata": {},
   "source": [
    "### Read in the data"
   ]
  },
  {
   "cell_type": "code",
   "execution_count": null,
   "metadata": {},
   "outputs": [],
   "source": [
    "T, S1, S2, river_height, __, dates = load_nile_data(os.path.join(os.getcwd(), \"..\", \"Data\", \"nile.txt\"))"
   ]
  },
  {
   "cell_type": "markdown",
   "metadata": {},
   "source": [
    "### Set up initial hyperparameters and lag lengths\n",
    "\n",
    "These values will be updated and optimised as we go along."
   ]
  },
  {
   "cell_type": "code",
   "execution_count": null,
   "metadata": {},
   "outputs": [],
   "source": [
    "intensity = 100\n",
    "cp_model = CpModel(intensity)\n",
    "a, b = 1, 1\n",
    "prior_mean_scale, prior_var_scale = 0, 0.0075"
   ]
  },
  {
   "cell_type": "markdown",
   "metadata": {},
   "source": [
    "### Set up the autoregression models\n",
    "\n",
    "For a set of initial hyperparameters across a range of lag times, generate the model objects."
   ]
  },
  {
   "cell_type": "code",
   "execution_count": null,
   "metadata": {},
   "outputs": [],
   "source": [
    "upper_AR = 3\n",
    "lower_AR = 1\n",
    "AR_models = []\n",
    "\n",
    "for lag in range(lower_AR, upper_AR + 1):\n",
    "    \"\"\"Generate next model object\"\"\"\n",
    "    AR_models += [BVARNIG(\n",
    "        prior_a=a, prior_b=b,\n",
    "        S1=S1, S2=S2,\n",
    "        prior_mean_scale=prior_mean_scale,\n",
    "        prior_var_scale=prior_var_scale,\n",
    "        intercept_grouping=None,\n",
    "        nbh_sequence=[0] * lag,\n",
    "        restriction_sequence=[0] * lag,\n",
    "        hyperparameter_optimization=\"online\")]\n"
   ]
  },
  {
   "cell_type": "markdown",
   "metadata": {},
   "source": [
    "### Create the model universe \n",
    "\n",
    "Put all the model objects together, create model universe and the model priors.\n"
   ]
  },
  {
   "cell_type": "code",
   "execution_count": null,
   "metadata": {},
   "outputs": [],
   "source": [
    "model_universe = np.array(AR_models)\n",
    "model_prior = np.array([1 / len(model_universe)] * len(model_universe))"
   ]
  },
  {
   "cell_type": "markdown",
   "metadata": {},
   "source": [
    "### Build and run the detector"
   ]
  },
  {
   "cell_type": "code",
   "execution_count": null,
   "metadata": {},
   "outputs": [],
   "source": [
    "detector = Detector(\n",
    "    data=river_height,\n",
    "    model_universe=model_universe,\n",
    "    model_prior=model_prior,\n",
    "    cp_model=cp_model,\n",
    "    S1=S1, S2=S2, T=T,\n",
    "    store_rl=True, store_mrl=True,\n",
    "    trim_type=\"keep_K\", threshold=50,\n",
    "    notifications=50,\n",
    "    save_performance_indicators=True)\n",
    "detector.run()"
   ]
  },
  {
   "cell_type": "markdown",
   "metadata": {},
   "source": [
    "### Generate results for Table 1"
   ]
  },
  {
   "cell_type": "code",
   "execution_count": null,
   "metadata": {},
   "outputs": [],
   "source": [
    "print(\"MSE is %.3g with 95%% error of %.3g\" %\n",
    "      (np.mean(detector.MSE), 1.96 * scipy.stats.sem(detector.MSE)))\n",
    "print(\"NLL is %.3g with 95%% error of %.3g\" %\n",
    "      (np.mean(detector.negative_log_likelihood), 1.96 * scipy.stats.sem(detector.negative_log_likelihood)))"
   ]
  },
  {
   "cell_type": "markdown",
   "metadata": {},
   "source": [
    "### Prepare Figure 5"
   ]
  },
  {
   "cell_type": "code",
   "execution_count": null,
   "metadata": {},
   "outputs": [],
   "source": [
    "# We'll prepare the figure using the functionality available via the EvaluationTool class\n",
    "EvT = EvaluationTool()\n",
    "EvT.build_EvaluationTool_via_run_detector(detector)"
   ]
  },
  {
   "cell_type": "code",
   "execution_count": null,
   "metadata": {},
   "outputs": [],
   "source": [
    "# Prepare the axes\n",
    "fig, ax_array = plt.subplots(2, figsize=(8, 5), sharex=True,\n",
    "                             gridspec_kw={'height_ratios': [10, 14]})\n",
    "plt.subplots_adjust(hspace=.35, left=None, bottom=None, right=None, top=None)\n",
    "\n",
    "# Placement of y-labels\n",
    "ylabel_coords = [-0.065, 0.5]\n",
    "\n",
    "# Upper panel: plot the time-series\n",
    "EvT.plot_raw_TS(river_height[2:].reshape(T-2, 1),\n",
    "                indices=[0],\n",
    "                xlab=None,\n",
    "                show_MAP_CPs=True,\n",
    "                time_range=np.linspace(1, T-2, T-2, dtype=int),\n",
    "                print_plt=False,\n",
    "                ylab=\"River Height\", ax=ax_array[0],\n",
    "                all_dates=np.linspace(int(dates[1]), int(dates[-2]), T-2, dtype=int),\n",
    "                custom_colors_series=[\"black\"],\n",
    "                custom_colors_CPs=[\"blue\", \"blue\"],\n",
    "                custom_linestyles=[\"solid\"] * 2,\n",
    "                ylab_fontsize=14,\n",
    "                ylabel_coords=ylabel_coords,\n",
    "                set_ylims=(-2.75, 3.95))\n",
    "\n",
    "# Lower panel: plot the run length distribution\n",
    "EvT.plot_run_length_distr(buffer=0,\n",
    "                          show_MAP_CPs=True,\n",
    "                          mark_median=False,\n",
    "                          mark_max=True,\n",
    "                          upper_limit=660,\n",
    "                          print_colorbar=True,\n",
    "                          colorbar_location='bottom',\n",
    "                          log_format=True,\n",
    "                          aspect_ratio='auto',\n",
    "                          C1=0, C2=1,\n",
    "                          time_range=np.linspace(1, T-2, T-2, dtype=int),\n",
    "                          start=int(dates[2]), stop=int(dates[-1]),\n",
    "                          event_time_list=[715],    # Nilometer installed in year 715\n",
    "                          label_list=[\"nilometer\"],\n",
    "                          space_to_colorbar=0.52,\n",
    "                          custom_colors=[\"blue\", \"blue\"],\n",
    "                          custom_linestyles=[\"solid\"] * 3,\n",
    "                          custom_linewidth=3,\n",
    "                          arrow_colors=[\"black\"],\n",
    "                          number_fontsize=14,\n",
    "                          arrow_length=135,\n",
    "                          arrow_thickness=3.0,\n",
    "                          xlab_fontsize=14,\n",
    "                          ylab_fontsize=14,\n",
    "                          arrows_setleft_indices=[0],\n",
    "                          arrows_setleft_by=[50],\n",
    "                          zero_distance=0.0,\n",
    "                          ax=ax_array[1], figure=fig,\n",
    "                          no_transform=True,\n",
    "                          date_instructions_formatter=None,\n",
    "                          date_instructions_locator=None,\n",
    "                          ylabel_coords=ylabel_coords,\n",
    "                          xlab=\"Year\",\n",
    "                          arrow_distance=25)"
   ]
  }
 ],
 "metadata": {
  "kernelspec": {
   "display_name": "Python 3",
   "language": "python",
   "name": "python3"
  },
  "language_info": {
   "codemirror_mode": {
    "name": "ipython",
    "version": 3
   },
   "file_extension": ".py",
   "mimetype": "text/x-python",
   "name": "python",
   "nbconvert_exporter": "python",
   "pygments_lexer": "ipython3",
   "version": "3.7.0"
  }
 },
 "nbformat": 4,
 "nbformat_minor": 2
}
